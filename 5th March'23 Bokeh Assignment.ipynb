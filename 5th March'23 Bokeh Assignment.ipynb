{
 "cells": [
  {
   "cell_type": "markdown",
   "id": "98928fd8-ff57-40cd-ac07-1e3f8afe2614",
   "metadata": {},
   "source": [
    "Q1. How can you create a Bokeh plot using Python code?"
   ]
  },
  {
   "cell_type": "markdown",
   "id": "cb7b1aad-fc2c-4f54-bc3b-50d5b2115a0a",
   "metadata": {},
   "source": [
    "Answer 1 - Bokeh is a Python library for creating interactive visualizations for the web. To create a Bokeh plot using Python code, the following steps can be followed:\n",
    "\n",
    "1. Install Bokeh: Install bokeh by running the command pp install bokeh in the terminal or command prompt.\n",
    "\n",
    "2. Import the necessary modules: You'll need to import the bokeh.plotting module, which provides a convenient interface for creating Bokeh plots, and any other modules that you'll be using for your plot."
   ]
  },
  {
   "cell_type": "code",
   "execution_count": null,
   "id": "6e5ae1ef-ed2e-4640-91f1-fb6ef1faeb82",
   "metadata": {},
   "outputs": [],
   "source": [
    "from bokeh.plotting import figure, output_file, show"
   ]
  },
  {
   "cell_type": "markdown",
   "id": "5e9c73db-b541-4ab8-bc8d-a18f3d7c596c",
   "metadata": {},
   "source": [
    "3. Create a new Bokeh plot: To create a new Bokeh plot, the figure() function can be used, which takes several arguments to customize the plot's appearance."
   ]
  },
  {
   "cell_type": "code",
   "execution_count": null,
   "id": "6a3b4027-bab0-4f62-8f30-fd01773e68d8",
   "metadata": {},
   "outputs": [],
   "source": [
    "p = figure(title=\"My Bokeh Plot\", x_axis_label=\"X-axis\", y_axis_label=\"Y-axis\")"
   ]
  },
  {
   "cell_type": "markdown",
   "id": "63c1a52c-45ca-43d7-9f5c-927cf3ff13a0",
   "metadata": {},
   "source": [
    "4. Add data to the plot: You can add data to the plot using the various glyph methods available in the figure object. \n",
    "\n",
    "For example, to add a scatter plot of x and y values, one can use the circle() method."
   ]
  },
  {
   "cell_type": "code",
   "execution_count": null,
   "id": "e3c5e783-6a31-495e-8664-69e8e7fa2eb3",
   "metadata": {},
   "outputs": [],
   "source": [
    "x = [1, 2, 3, 4, 5]\n",
    "y = [6, 7, 2, 4, 5]\n",
    "p.circle(x, y, size=10, color=\"navy\", alpha=0.5)"
   ]
  },
  {
   "cell_type": "markdown",
   "id": "3201d78e-8692-496c-94ac-ab2ee0ce09d4",
   "metadata": {},
   "source": [
    "5. Customize the plot: You can customize the plot further using various methods and properties available in the figure object. \n",
    "\n",
    "For example, you can set the plot's dimensions and background color."
   ]
  },
  {
   "cell_type": "code",
   "execution_count": null,
   "id": "db6b0a76-cbf4-4a32-8fd3-0113e8fbca3f",
   "metadata": {},
   "outputs": [],
   "source": [
    "p.plot_width = 800\n",
    "p.plot_height = 400\n",
    "p.background_fill_color = \"beige\""
   ]
  },
  {
   "cell_type": "markdown",
   "id": "8f026b35-2a33-4915-b2bf-cd3065eb9c39",
   "metadata": {},
   "source": [
    "6. Save and display the plot: Finally, you can save the plot as an HTML file and display it in your web browser using the output_file() and show() functions."
   ]
  },
  {
   "cell_type": "code",
   "execution_count": null,
   "id": "33ecbec9-fb96-4143-87d1-c30b09aabc14",
   "metadata": {},
   "outputs": [],
   "source": [
    "output_file(\"my_plot.html\")\n",
    "show(p)"
   ]
  },
  {
   "cell_type": "markdown",
   "id": "53714dea-cb49-497d-88db-b59c449022c7",
   "metadata": {},
   "source": [
    "The complete code for creating a simple Bokeh plot would look like this:\n",
    "\n",
    "      from bokeh.plotting import figure, output_file, show\n",
    "\n",
    "        # create a new plot with a title and axis labels\n",
    "          p = figure(title=\"My Bokeh Plot\", x_axis_label=\"X-axis\",                          y_axis_label=\"Y-axis\")\n",
    "\n",
    "            # add some data to the plot\n",
    "               x = [1, 2, 3, 4, 5]\n",
    "               y = [6, 7, 2, 4, 5]\n",
    "               p.circle(x, y, size=10, color=\"navy\", alpha=0.5)\n",
    "\n",
    "               # customize the plot\n",
    "               p.plot_width = 800\n",
    "               p.plot_height = 400\n",
    "               p.background_fill_color = \"beige\"\n",
    "\n",
    "              # save and show the plot\n",
    "               output_file(\"my_plot.html\")\n",
    "               show(p)\n",
    "               \n",
    "\n",
    "\n",
    "This will create a scatter plot with circles of size 10, colored navy with 50% transparency. The plot will be 800 pixels wide and 400 pixels high, with a beige background color. The plot will be saved as an HTML file named \"my_plot.html\" and displayed in your default web browser.\n"
   ]
  },
  {
   "cell_type": "markdown",
   "id": "e0419e16-db57-4a5e-922b-d1d2303a2dc3",
   "metadata": {},
   "source": [
    "Q2. What are glyphs in Bokeh, and how can you add them to a Bokeh plot? Explain with an example."
   ]
  },
  {
   "cell_type": "markdown",
   "id": "cfb92f56-788e-452b-a7ba-40221422d235",
   "metadata": {},
   "source": [
    "Answer - In Bokeh, a glyph is a visual mark used to represent data points in a plot. There are several types of glyphs available in Bokeh, including circles, squares, triangles, lines, and more. Glyphs can be added to a Bokeh plot using the various glyph methods available in the figure object.\n",
    "\n",
    "To add glyphs to a Bokeh plot, you first need to create a new Bokeh plot using the figure() function. You can then use the appropriate glyph method, such as circle(), square(), or line(), to add the desired glyph to the plot. Here's an example that demonstrates how to add glyphs to a Bokeh plot:"
   ]
  },
  {
   "cell_type": "code",
   "execution_count": null,
   "id": "63ac3147-0ab4-4707-8315-e0ae4a14f622",
   "metadata": {},
   "outputs": [],
   "source": [
    "from bokeh.plotting import figure, output_file, show\n",
    "\n",
    "# create a new plot with a title and axis labels\n",
    "p = figure(title=\"My Bokeh Plot\", x_axis_label=\"X-axis\", y_axis_label=\"Y-axis\")\n",
    "\n",
    "# add some data to the plot\n",
    "x = [1, 2, 3, 4, 5]\n",
    "y = [6, 7, 2, 4, 5]\n",
    "\n",
    "# add circles, squares, and a line to the plot\n",
    "p.circle(x, y, size=10, color=\"navy\", alpha=0.5)\n",
    "p.square(x, y, size=12, color=\"red\", alpha=0.8)\n",
    "p.line(x, y, line_width=2, color=\"green\")\n",
    "\n",
    "# customize the plot\n",
    "p.plot_width = 800\n",
    "p.plot_height = 400\n",
    "p.background_fill_color = \"beige\"\n",
    "\n",
    "# save and show the plot\n",
    "output_file(\"my_plot.html\")\n",
    "show(p)\n"
   ]
  },
  {
   "cell_type": "markdown",
   "id": "8bd060b3-3734-4c11-88af-7e7e24b21fab",
   "metadata": {},
   "source": [
    "In this example, I first create a new Bokeh plot with a title and axis labels.Then add some data to the plot using two lists of x and y values. Next, add three different glyphs to the plot using the circle(), square(), and line() methods. The circle() method adds circles to the plot with a size of 10, colored navy with 50% transparency. The square() method adds squares to the plot with a size of 12, colored red with 80% transparency. The line() method adds a line to the plot with a width of 2 and colored green.\n",
    "\n",
    "Finally, customize the plot's width, height, and background color, and save the plot as an HTML file named \"my_plot.html\". When I run the code, the resulting Bokeh plot will display circles, squares, and a line representing the data points."
   ]
  },
  {
   "cell_type": "markdown",
   "id": "461168c3-3362-4aee-b607-207cc5a62f16",
   "metadata": {},
   "source": [
    "Q3. How can you customize the appearance of a Bokeh plot, including the axes, title, and legend?"
   ]
  },
  {
   "cell_type": "markdown",
   "id": "72924865-8c7c-4d62-843e-78e67c6e8743",
   "metadata": {},
   "source": [
    "Answer - You can customize the appearance of a Bokeh plot using various attributes of the figure() object and its associated components. Here are some examples of how you can customize different parts of a Bokeh plot:\n",
    "\n",
    "###Customizing the axes:\n",
    "\n",
    "You can customize the appearance of the axes using various properties of the Axis class. Here are some examples:"
   ]
  },
  {
   "cell_type": "code",
   "execution_count": null,
   "id": "f9909bdb-37b1-4707-9e8a-70105259dda7",
   "metadata": {},
   "outputs": [],
   "source": [
    "from bokeh.plotting import figure, output_file, show\n",
    "\n",
    "# create a new plot with customized axes\n",
    "p = figure(title=\"My Bokeh Plot\", x_axis_label=\"X-axis\", y_axis_label=\"Y-axis\",\n",
    "           x_axis_type=\"datetime\", y_axis_type=\"log\", \n",
    "           x_range=(0, 10), y_range=(0.1, 100))\n",
    "\n",
    "# customize the appearance of the x-axis\n",
    "p.xaxis.major_label_orientation = 3.14/4  # rotate x-axis labels by 45 degrees\n",
    "p.xaxis.axis_label_text_font_size = \"14pt\"  # increase the font size of the x-axis label\n",
    "p.xaxis.axis_label_text_color = \"red\"  # change the color of the x-axis label\n",
    "\n",
    "# customize the appearance of the y-axis\n",
    "p.yaxis.axis_label_standoff = 20  # move the y-axis label away from the axis\n",
    "p.yaxis.axis_line_width = 2  # increase the width of the y-axis line\n",
    "p.yaxis.axis_label_text_font_style = \"italic\"  # change the font style of the y-axis label\n",
    "\n",
    "# customize the appearance of the axis ticks\n",
    "p.xaxis.minor_tick_line_color = None  # remove minor tick lines from the x-axis\n",
    "p.yaxis.major_tick_in = 0  # move major ticks inside the y-axis\n",
    "p.yaxis.major_tick_line_width = 1.5  # increase the width of the major tick lines\n",
    "p.yaxis.major_tick_line_color = \"green\"  # change the color of the major tick lines\n",
    "\n",
    "# customize the appearance of the grid lines\n",
    "p.grid.grid_line_dash = [6, 4]  # change the style of the grid lines to be dashed\n",
    "p.grid.grid_line_alpha = 0.3  # set the transparency of the grid lines\n",
    "\n",
    "# add some data to the plot\n",
    "x = [1, 2, 3, 4, 5]\n",
    "y = [6, 7, 2, 4, 5]\n",
    "p.line(x, y, line_width=2)\n",
    "\n",
    "# save and show the plot\n",
    "output_file(\"my_plot.html\")\n",
    "show(p)\n"
   ]
  },
  {
   "cell_type": "markdown",
   "id": "f7948c90-1c80-4050-b5ce-37f51605e9ea",
   "metadata": {},
   "source": [
    "In this example, I create a new plot with customized axes. Then set the x-axis type to datetime and the y-axis type to log, and set the ranges of the x and y axes. I then customize various properties of the x-axis and y-axis, such as the orientation and font size of the axis labels, the position and style of the ticks and grid lines, and the color and transparency of the grid lines. Finally, add some data to the plot and save and show the plot."
   ]
  },
  {
   "cell_type": "markdown",
   "id": "d5153b7b-b2dc-433a-8d47-d4fbb00d208e",
   "metadata": {},
   "source": [
    "###Customizing the title and legend:\n",
    "\n",
    "You can customize the appearance of the title and legend using various properties of the Title and Legend classes. Here are some examples:"
   ]
  },
  {
   "cell_type": "markdown",
   "id": "176c1839-cd1c-4085-985f-b2152837834f",
   "metadata": {},
   "source": [
    "from bokeh.plotting import figure, output_file, show\n",
    "from bokeh.models import Title, Legend, LegendItem\n",
    "\n",
    "# create a new plot with a title and legend\n",
    "p = figure(title=\"My Bokeh Plot\", x_axis_label=\"X-axis\", y_axis_label=\"Y-axis\")\n",
    "\n",
    "# customize the appearance of the title\n",
    "title = Title(text=\"My Custom Title\", align=\"center\", text_font_size=\"24pt\")\n",
    "p.title = title\n",
    "\n",
    "# customize the appearance\n"
   ]
  },
  {
   "cell_type": "markdown",
   "id": "ea5433f4-8635-42d6-a67e-840379ffb830",
   "metadata": {},
   "source": [
    "Q4. What is a Bokeh server, and how can you use it to create interactive plots that can be updated in real time?"
   ]
  },
  {
   "cell_type": "raw",
   "id": "9a6af461-2fb8-4a70-9a47-b2257a6e9d18",
   "metadata": {},
   "source": [
    "Answer - A Bokeh server is a Python process that runs a Bokeh application, which allows for the creation of interactive plots that can be updated in real-time. When using a Bokeh server, the plot data is hosted on the server and can be updated dynamically based on user input or other external events.\n",
    "\n",
    "To create a Bokeh server application, you typically define a modify_doc(doc) function that takes a Document object as its argument. This function specifies the layout of the plot and defines the behavior of any interactive components. You then use the curdoc() function to obtain a handle to the current document, and call the modify_doc() function to initialize the plot.\n",
    "\n",
    "Here is an example of a simple Bokeh server application that creates an interactive plot:"
   ]
  },
  {
   "cell_type": "code",
   "execution_count": null,
   "id": "ecb91b96-3029-413b-8330-fb97cdf34adc",
   "metadata": {},
   "outputs": [],
   "source": [
    "from bokeh.io import curdoc\n",
    "from bokeh.plotting import figure\n",
    "from bokeh.models import ColumnDataSource\n",
    "from random import random\n",
    "\n",
    "# create a new plot with a line renderer\n",
    "p = figure(plot_width=400, plot_height=400)\n",
    "r = p.line(x=[], y=[], color=\"navy\", line_width=2)\n",
    "\n",
    "# create a data source and initialize the plot with some data\n",
    "source = ColumnDataSource(data=dict(x=[0], y=[0]))\n",
    "r.data_source.data = source.data\n",
    "\n",
    "# define a callback function that updates the plot data when a button is clicked\n",
    "def update():\n",
    "    new_data = dict(x=[source.data['x'][-1] + 0.1*random()],\n",
    "                    y=[source.data['y'][-1] + 0.1*random()])\n",
    "    source.stream(new_data, rollover=50)\n",
    "\n",
    "# create a button widget that triggers the update function\n",
    "button = Button(label=\"Update\")\n",
    "button.on_click(update)\n",
    "\n",
    "# add the plot and button widget to the document\n",
    "curdoc().add_root(column(p, button))\n"
   ]
  },
  {
   "cell_type": "markdown",
   "id": "47c70325-8315-4e72-888c-14a960f9c2d7",
   "metadata": {},
   "source": [
    "In this example, we create a new plot with a line renderer, and initialize the plot with a data source containing a single point at the origin. We define a callback function update() that generates new data points with random offsets from the previous point, and updates the data source using the stream() method. We then create a Button widget that triggers the update function when clicked, and add both the plot and the button widget to the document using the add_root() method. Finally, we run the application by executing bokeh serve myapp.py in the command line, where myapp.py is the filename of our application.\n",
    "\n",
    "Once the application is running, you can view the interactive plot by navigating to http://localhost:5000/myapp in your web browser. The plot will update in real-time as you click the update button."
   ]
  },
  {
   "cell_type": "markdown",
   "id": "bbb18d51-550f-4731-84b0-0555540988c2",
   "metadata": {},
   "source": [
    "Q5. How can you embed a Bokeh plot into a web page or dashboard using Flask or Django?"
   ]
  },
  {
   "cell_type": "markdown",
   "id": "55c38d4b-e3a5-41ce-99fe-f07effc49c04",
   "metadata": {},
   "source": [
    "Answer - Bokeh provides several options for embedding plots into web pages or dashboards using Flask or Django.\n",
    "\n",
    "Flask\n",
    "\n",
    "\n",
    "Here's an example of how to embed a Bokeh plot into a Flask application:"
   ]
  },
  {
   "cell_type": "code",
   "execution_count": null,
   "id": "3caa20c7-ec3d-4d0d-ba33-a3db949e142d",
   "metadata": {},
   "outputs": [],
   "source": [
    "from flask import Flask, render_template\n",
    "from bokeh.plotting import figure\n",
    "from bokeh.resources import CDN\n",
    "from bokeh.embed import file_html\n",
    "\n",
    "app = Flask(__name__)\n",
    "\n",
    "@app.route('/')\n",
    "def index():\n",
    "    plot = figure()\n",
    "    plot.circle([1,2,3], [4,5,6])\n",
    "    plot_html = file_html(plot, CDN, \"my plot\")\n",
    "    return render_template('index.html', plot_html=plot_html)\n",
    "\n",
    "if __name__ == '__main__':\n",
    "    app.run()\n"
   ]
  },
  {
   "cell_type": "markdown",
   "id": "a650af5b-8981-41b7-9355-d5ed8ce381c2",
   "metadata": {},
   "source": [
    "In this example, we define a Flask route that generates a Bokeh plot using the figure() function, and then embeds the plot in an HTML template using the file_html() function. The resulting HTML code is passed to the template via a variable named plot_html."
   ]
  },
  {
   "cell_type": "markdown",
   "id": "d768b578-bb5e-4a75-8a86-13584ca30b3c",
   "metadata": {},
   "source": [
    "Django\n",
    "\n",
    "Here's an example of how to embed a Bokeh plot into a Django application:"
   ]
  },
  {
   "cell_type": "code",
   "execution_count": null,
   "id": "376ab459-8ef9-4408-9f0e-48fc7391479d",
   "metadata": {},
   "outputs": [],
   "source": [
    "from django.shortcuts import render\n",
    "from bokeh.plotting import figure\n",
    "from bokeh.resources import CDN\n",
    "from bokeh.embed import file_html\n",
    "\n",
    "def index(request):\n",
    "    plot = figure()\n",
    "    plot.circle([1,2,3], [4,5,6])\n",
    "    plot_html = file_html(plot, CDN, \"my plot\")\n",
    "    return render(request, 'index.html', {'plot_html': plot_html})\n"
   ]
  },
  {
   "cell_type": "markdown",
   "id": "afcfbf16-cb96-467e-b392-610553c788e9",
   "metadata": {},
   "source": [
    "In this example, we define a Django view function that generates a Bokeh plot using the figure() function, and then embeds the plot in an HTML template using the file_html() function. The resulting HTML code is passed to the template via a context variable named plot_html."
   ]
  },
  {
   "cell_type": "markdown",
   "id": "30e3575c-78bd-4080-aa2f-090bc5d219c6",
   "metadata": {},
   "source": [
    "In both cases, you would need to create an HTML template that includes the plot_html variable in order to display the plot on a web page. The exact syntax of the template will depend on your web framework and your desired layout."
   ]
  },
  {
   "cell_type": "code",
   "execution_count": null,
   "id": "711647d6-5e1b-4881-a940-dd38120d9e73",
   "metadata": {},
   "outputs": [],
   "source": []
  }
 ],
 "metadata": {
  "kernelspec": {
   "display_name": "Python 3 (ipykernel)",
   "language": "python",
   "name": "python3"
  },
  "language_info": {
   "codemirror_mode": {
    "name": "ipython",
    "version": 3
   },
   "file_extension": ".py",
   "mimetype": "text/x-python",
   "name": "python",
   "nbconvert_exporter": "python",
   "pygments_lexer": "ipython3",
   "version": "3.10.8"
  }
 },
 "nbformat": 4,
 "nbformat_minor": 5
}
